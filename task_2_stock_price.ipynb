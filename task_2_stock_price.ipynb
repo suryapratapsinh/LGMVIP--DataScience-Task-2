{
  "nbformat": 4,
  "nbformat_minor": 0,
  "metadata": {
    "colab": {
      "provenance": [],
      "authorship_tag": "ABX9TyOR8ER6eofcT1yS0gUGzOL3",
      "include_colab_link": true
    },
    "kernelspec": {
      "name": "python3",
      "display_name": "Python 3"
    },
    "language_info": {
      "name": "python"
    }
  },
  "cells": [
    {
      "cell_type": "markdown",
      "metadata": {
        "id": "view-in-github",
        "colab_type": "text"
      },
      "source": [
        "<a href=\"https://colab.research.google.com/github/suryapratapsinh/LGMVIP--DataScience-Task-2/blob/main/task_2_stock_price.ipynb\" target=\"_parent\"><img src=\"https://colab.research.google.com/assets/colab-badge.svg\" alt=\"Open In Colab\"/></a>"
      ]
    },
    {
      "cell_type": "markdown",
      "source": [
        "# **Suryapratapsinh Thakor**"
      ],
      "metadata": {
        "id": "5X21WwsoT05d"
      }
    },
    {
      "cell_type": "markdown",
      "source": [
        "# **Data Science Inter at LetsGrowMore**"
      ],
      "metadata": {
        "id": "m3bjQGT5T2Qt"
      }
    },
    {
      "cell_type": "markdown",
      "source": [
        "# **Task-2  Stock prize prediction**"
      ],
      "metadata": {
        "id": "aXlqk6IjT3LF"
      }
    },
    {
      "cell_type": "markdown",
      "source": [
        "# import libraries"
      ],
      "metadata": {
        "id": "DieLW026UXrE"
      }
    },
    {
      "cell_type": "code",
      "execution_count": null,
      "metadata": {
        "id": "9t4ZmL_LGn87"
      },
      "outputs": [],
      "source": [
        "import matplotlib.pyplot as plt\n",
        "import pandas as pd\n",
        "import numpy as np\n",
        "import tensorflow as tf\n",
        "import seaborn as sns\n",
        "import warnings\n",
        "warnings.filterwarnings(\"ignore\")\n",
        "%matplotlib inline\n",
        "\n"
      ]
    },
    {
      "cell_type": "markdown",
      "source": [
        "# Load the Training Dataset"
      ],
      "metadata": {
        "id": "Atthg0GNUcIk"
      }
    },
    {
      "cell_type": "code",
      "source": [
        "\n",
        "df=pd.read_csv(\"NSE-TATAGLOBAL.csv\")"
      ],
      "metadata": {
        "id": "rozYC7n3AXcS"
      },
      "execution_count": null,
      "outputs": []
    },
    {
      "cell_type": "code",
      "source": [
        "df.head()"
      ],
      "metadata": {
        "colab": {
          "base_uri": "https://localhost:8080/",
          "height": 354
        },
        "id": "7KeHdrnkIsec",
        "outputId": "bca00e81-04a0-446f-bc40-4862866ef196"
      },
      "execution_count": null,
      "outputs": [
        {
          "output_type": "execute_result",
          "data": {
            "text/plain": [
              "         Date    Open    High     Low    Last   Close  Total Trade Quantity  \\\n",
              "0  2018-09-28  234.05  235.95  230.20  233.50  233.75               3069914   \n",
              "1  2018-09-27  234.55  236.80  231.10  233.80  233.25               5082859   \n",
              "2  2018-09-26  240.00  240.00  232.50  235.00  234.25               2240909   \n",
              "3  2018-09-25  233.30  236.75  232.00  236.25  236.10               2349368   \n",
              "4  2018-09-24  233.55  239.20  230.75  234.00  233.30               3423509   \n",
              "\n",
              "   Turnover (Lacs)  \n",
              "0          7162.35  \n",
              "1         11859.95  \n",
              "2          5248.60  \n",
              "3          5503.90  \n",
              "4          7999.55  "
            ],
            "text/html": [
              "\n",
              "  <div id=\"df-39926207-dd7d-4c0c-83ca-8cdb6a630bf3\">\n",
              "    <div class=\"colab-df-container\">\n",
              "      <div>\n",
              "<style scoped>\n",
              "    .dataframe tbody tr th:only-of-type {\n",
              "        vertical-align: middle;\n",
              "    }\n",
              "\n",
              "    .dataframe tbody tr th {\n",
              "        vertical-align: top;\n",
              "    }\n",
              "\n",
              "    .dataframe thead th {\n",
              "        text-align: right;\n",
              "    }\n",
              "</style>\n",
              "<table border=\"1\" class=\"dataframe\">\n",
              "  <thead>\n",
              "    <tr style=\"text-align: right;\">\n",
              "      <th></th>\n",
              "      <th>Date</th>\n",
              "      <th>Open</th>\n",
              "      <th>High</th>\n",
              "      <th>Low</th>\n",
              "      <th>Last</th>\n",
              "      <th>Close</th>\n",
              "      <th>Total Trade Quantity</th>\n",
              "      <th>Turnover (Lacs)</th>\n",
              "    </tr>\n",
              "  </thead>\n",
              "  <tbody>\n",
              "    <tr>\n",
              "      <th>0</th>\n",
              "      <td>2018-09-28</td>\n",
              "      <td>234.05</td>\n",
              "      <td>235.95</td>\n",
              "      <td>230.20</td>\n",
              "      <td>233.50</td>\n",
              "      <td>233.75</td>\n",
              "      <td>3069914</td>\n",
              "      <td>7162.35</td>\n",
              "    </tr>\n",
              "    <tr>\n",
              "      <th>1</th>\n",
              "      <td>2018-09-27</td>\n",
              "      <td>234.55</td>\n",
              "      <td>236.80</td>\n",
              "      <td>231.10</td>\n",
              "      <td>233.80</td>\n",
              "      <td>233.25</td>\n",
              "      <td>5082859</td>\n",
              "      <td>11859.95</td>\n",
              "    </tr>\n",
              "    <tr>\n",
              "      <th>2</th>\n",
              "      <td>2018-09-26</td>\n",
              "      <td>240.00</td>\n",
              "      <td>240.00</td>\n",
              "      <td>232.50</td>\n",
              "      <td>235.00</td>\n",
              "      <td>234.25</td>\n",
              "      <td>2240909</td>\n",
              "      <td>5248.60</td>\n",
              "    </tr>\n",
              "    <tr>\n",
              "      <th>3</th>\n",
              "      <td>2018-09-25</td>\n",
              "      <td>233.30</td>\n",
              "      <td>236.75</td>\n",
              "      <td>232.00</td>\n",
              "      <td>236.25</td>\n",
              "      <td>236.10</td>\n",
              "      <td>2349368</td>\n",
              "      <td>5503.90</td>\n",
              "    </tr>\n",
              "    <tr>\n",
              "      <th>4</th>\n",
              "      <td>2018-09-24</td>\n",
              "      <td>233.55</td>\n",
              "      <td>239.20</td>\n",
              "      <td>230.75</td>\n",
              "      <td>234.00</td>\n",
              "      <td>233.30</td>\n",
              "      <td>3423509</td>\n",
              "      <td>7999.55</td>\n",
              "    </tr>\n",
              "  </tbody>\n",
              "</table>\n",
              "</div>\n",
              "      <button class=\"colab-df-convert\" onclick=\"convertToInteractive('df-39926207-dd7d-4c0c-83ca-8cdb6a630bf3')\"\n",
              "              title=\"Convert this dataframe to an interactive table.\"\n",
              "              style=\"display:none;\">\n",
              "        \n",
              "  <svg xmlns=\"http://www.w3.org/2000/svg\" height=\"24px\"viewBox=\"0 0 24 24\"\n",
              "       width=\"24px\">\n",
              "    <path d=\"M0 0h24v24H0V0z\" fill=\"none\"/>\n",
              "    <path d=\"M18.56 5.44l.94 2.06.94-2.06 2.06-.94-2.06-.94-.94-2.06-.94 2.06-2.06.94zm-11 1L8.5 8.5l.94-2.06 2.06-.94-2.06-.94L8.5 2.5l-.94 2.06-2.06.94zm10 10l.94 2.06.94-2.06 2.06-.94-2.06-.94-.94-2.06-.94 2.06-2.06.94z\"/><path d=\"M17.41 7.96l-1.37-1.37c-.4-.4-.92-.59-1.43-.59-.52 0-1.04.2-1.43.59L10.3 9.45l-7.72 7.72c-.78.78-.78 2.05 0 2.83L4 21.41c.39.39.9.59 1.41.59.51 0 1.02-.2 1.41-.59l7.78-7.78 2.81-2.81c.8-.78.8-2.07 0-2.86zM5.41 20L4 18.59l7.72-7.72 1.47 1.35L5.41 20z\"/>\n",
              "  </svg>\n",
              "      </button>\n",
              "      \n",
              "  <style>\n",
              "    .colab-df-container {\n",
              "      display:flex;\n",
              "      flex-wrap:wrap;\n",
              "      gap: 12px;\n",
              "    }\n",
              "\n",
              "    .colab-df-convert {\n",
              "      background-color: #E8F0FE;\n",
              "      border: none;\n",
              "      border-radius: 50%;\n",
              "      cursor: pointer;\n",
              "      display: none;\n",
              "      fill: #1967D2;\n",
              "      height: 32px;\n",
              "      padding: 0 0 0 0;\n",
              "      width: 32px;\n",
              "    }\n",
              "\n",
              "    .colab-df-convert:hover {\n",
              "      background-color: #E2EBFA;\n",
              "      box-shadow: 0px 1px 2px rgba(60, 64, 67, 0.3), 0px 1px 3px 1px rgba(60, 64, 67, 0.15);\n",
              "      fill: #174EA6;\n",
              "    }\n",
              "\n",
              "    [theme=dark] .colab-df-convert {\n",
              "      background-color: #3B4455;\n",
              "      fill: #D2E3FC;\n",
              "    }\n",
              "\n",
              "    [theme=dark] .colab-df-convert:hover {\n",
              "      background-color: #434B5C;\n",
              "      box-shadow: 0px 1px 3px 1px rgba(0, 0, 0, 0.15);\n",
              "      filter: drop-shadow(0px 1px 2px rgba(0, 0, 0, 0.3));\n",
              "      fill: #FFFFFF;\n",
              "    }\n",
              "  </style>\n",
              "\n",
              "      <script>\n",
              "        const buttonEl =\n",
              "          document.querySelector('#df-39926207-dd7d-4c0c-83ca-8cdb6a630bf3 button.colab-df-convert');\n",
              "        buttonEl.style.display =\n",
              "          google.colab.kernel.accessAllowed ? 'block' : 'none';\n",
              "\n",
              "        async function convertToInteractive(key) {\n",
              "          const element = document.querySelector('#df-39926207-dd7d-4c0c-83ca-8cdb6a630bf3');\n",
              "          const dataTable =\n",
              "            await google.colab.kernel.invokeFunction('convertToInteractive',\n",
              "                                                     [key], {});\n",
              "          if (!dataTable) return;\n",
              "\n",
              "          const docLinkHtml = 'Like what you see? Visit the ' +\n",
              "            '<a target=\"_blank\" href=https://colab.research.google.com/notebooks/data_table.ipynb>data table notebook</a>'\n",
              "            + ' to learn more about interactive tables.';\n",
              "          element.innerHTML = '';\n",
              "          dataTable['output_type'] = 'display_data';\n",
              "          await google.colab.output.renderOutput(dataTable, element);\n",
              "          const docLink = document.createElement('div');\n",
              "          docLink.innerHTML = docLinkHtml;\n",
              "          element.appendChild(docLink);\n",
              "        }\n",
              "      </script>\n",
              "    </div>\n",
              "  </div>\n",
              "  "
            ]
          },
          "metadata": {},
          "execution_count": 49
        }
      ]
    },
    {
      "cell_type": "code",
      "source": [
        "df.info()"
      ],
      "metadata": {
        "colab": {
          "base_uri": "https://localhost:8080/"
        },
        "id": "0sBLCpcLIshk",
        "outputId": "28ead973-46e8-4821-a921-3f1d0c2538a2"
      },
      "execution_count": null,
      "outputs": [
        {
          "output_type": "stream",
          "name": "stdout",
          "text": [
            "<class 'pandas.core.frame.DataFrame'>\n",
            "RangeIndex: 2035 entries, 0 to 2034\n",
            "Data columns (total 8 columns):\n",
            " #   Column                Non-Null Count  Dtype  \n",
            "---  ------                --------------  -----  \n",
            " 0   Date                  2035 non-null   object \n",
            " 1   Open                  2035 non-null   float64\n",
            " 2   High                  2035 non-null   float64\n",
            " 3   Low                   2035 non-null   float64\n",
            " 4   Last                  2035 non-null   float64\n",
            " 5   Close                 2035 non-null   float64\n",
            " 6   Total Trade Quantity  2035 non-null   int64  \n",
            " 7   Turnover (Lacs)       2035 non-null   float64\n",
            "dtypes: float64(6), int64(1), object(1)\n",
            "memory usage: 127.3+ KB\n"
          ]
        }
      ]
    },
    {
      "cell_type": "code",
      "source": [
        "df.isnull().sum()"
      ],
      "metadata": {
        "colab": {
          "base_uri": "https://localhost:8080/"
        },
        "id": "QddxVOByIskM",
        "outputId": "d31f0b3d-702f-42f5-ee3b-9f2911a6eba2"
      },
      "execution_count": null,
      "outputs": [
        {
          "output_type": "execute_result",
          "data": {
            "text/plain": [
              "Date                    0\n",
              "Open                    0\n",
              "High                    0\n",
              "Low                     0\n",
              "Last                    0\n",
              "Close                   0\n",
              "Total Trade Quantity    0\n",
              "Turnover (Lacs)         0\n",
              "dtype: int64"
            ]
          },
          "metadata": {},
          "execution_count": 51
        }
      ]
    },
    {
      "cell_type": "markdown",
      "source": [
        "# use the open stock price column to train your model"
      ],
      "metadata": {
        "id": "43qcojAfUrg8"
      }
    },
    {
      "cell_type": "code",
      "source": [
        "training_set = df.iloc[:,1:2].values\n",
        "\n",
        "print(training_set)\n",
        "print(training_set.shape)"
      ],
      "metadata": {
        "id": "0Ir4LTtGIspP",
        "colab": {
          "base_uri": "https://localhost:8080/"
        },
        "outputId": "033bf1ca-2feb-4625-c929-18fbec50aadd"
      },
      "execution_count": null,
      "outputs": [
        {
          "output_type": "stream",
          "name": "stdout",
          "text": [
            "[[234.05]\n",
            " [234.55]\n",
            " [240.  ]\n",
            " ...\n",
            " [121.8 ]\n",
            " [120.3 ]\n",
            " [122.1 ]]\n",
            "(2035, 1)\n"
          ]
        }
      ]
    },
    {
      "cell_type": "markdown",
      "source": [
        "# Normalizing the dataset"
      ],
      "metadata": {
        "id": "_vzQQyz4U1qp"
      }
    },
    {
      "cell_type": "code",
      "source": [
        "from sklearn.preprocessing import MinMaxScaler\n",
        "\n",
        "scaler = MinMaxScaler(feature_range= (0,1))\n",
        "scaled_trainingset= scaler.fit_transform(training_set)\n",
        "scaled_trainingset"
      ],
      "metadata": {
        "id": "eNjPe3fOIsr7",
        "colab": {
          "base_uri": "https://localhost:8080/"
        },
        "outputId": "1c9e0d13-1a4a-4cf9-df67-959d927df1af"
      },
      "execution_count": null,
      "outputs": [
        {
          "output_type": "execute_result",
          "data": {
            "text/plain": [
              "array([[0.6202352 ],\n",
              "       [0.62226277],\n",
              "       [0.64436334],\n",
              "       ...,\n",
              "       [0.16504461],\n",
              "       [0.15896188],\n",
              "       [0.16626115]])"
            ]
          },
          "metadata": {},
          "execution_count": 53
        }
      ]
    },
    {
      "cell_type": "markdown",
      "source": [
        "# creating x_train and y_train data structures"
      ],
      "metadata": {
        "id": "IVJkFgbAU7eI"
      }
    },
    {
      "cell_type": "code",
      "source": [
        "x_train = []\n",
        "y_train = []\n",
        "\n",
        "for i in range(60,1258):\n",
        "  x_train.append(scaled_trainingset[i-60:i, 0])\n",
        "  y_train.append(scaled_trainingset[i, 0])\n",
        "\n",
        "x_train = np.array(x_train)\n",
        "y_train = np.array(y_train)\n",
        "\n",
        "\n"
      ],
      "metadata": {
        "id": "0-BwEX66IsvC"
      },
      "execution_count": null,
      "outputs": []
    },
    {
      "cell_type": "markdown",
      "source": [
        "# Reshape the data"
      ],
      "metadata": {
        "id": "_Z5Eg_6XVCF8"
      }
    },
    {
      "cell_type": "code",
      "source": [
        "X_train= np.reshape(x_train,(x_train.shape[0],x_train.shape[1],1))\n",
        "\n",
        "X_train.shape"
      ],
      "metadata": {
        "id": "KHueZdkuIsx9",
        "colab": {
          "base_uri": "https://localhost:8080/"
        },
        "outputId": "e8d7cdca-bc72-46e5-b2ef-67cfdd6f08a0"
      },
      "execution_count": null,
      "outputs": [
        {
          "output_type": "execute_result",
          "data": {
            "text/plain": [
              "(1198, 60, 1)"
            ]
          },
          "metadata": {},
          "execution_count": 24
        }
      ]
    },
    {
      "cell_type": "markdown",
      "source": [
        "# Building the model by importing crucial libraries and adding diffrent layers to LSTM"
      ],
      "metadata": {
        "id": "J38ro-B6VF32"
      }
    },
    {
      "cell_type": "code",
      "source": [
        "from keras.models import Sequential\n",
        "from keras.layers import LSTM\n",
        "from keras.layers import Dense\n",
        "from keras.layers import Dropout\n"
      ],
      "metadata": {
        "id": "Ilg5GmU0Is1H"
      },
      "execution_count": null,
      "outputs": []
    },
    {
      "cell_type": "code",
      "source": [
        "regressor = Sequential()\n",
        "\n",
        "regressor.add(LSTM(units = 50, return_sequences= True, input_shape = (x_train.shape[1],1)))\n",
        "#regressor.add(Dropout(0.2))\n",
        "\n",
        "regressor.add(LSTM(units = 50, return_sequences= True))\n",
        "#regressor.add(Dropout(0.2))\n",
        "\n",
        "regressor.add(LSTM(units = 50, return_sequences= True))\n",
        "#regressor.add(Dropout(0.2))\n",
        "\n",
        "regressor.add(LSTM(units = 50))\n",
        "#regressor.add(Dropout(0.2))\n",
        "\n",
        "regressor.add(Dense(units=1))"
      ],
      "metadata": {
        "id": "QHl8auvt6o_c"
      },
      "execution_count": null,
      "outputs": []
    },
    {
      "cell_type": "markdown",
      "source": [
        "# Fitting Model"
      ],
      "metadata": {
        "id": "opixeXgTVXlT"
      }
    },
    {
      "cell_type": "code",
      "source": [
        "regressor.compile(optimizer = 'adam', loss='mean_squared_error')\n",
        "regressor.fit(x_train , y_train, epochs=100, batch_size=32)"
      ],
      "metadata": {
        "colab": {
          "base_uri": "https://localhost:8080/"
        },
        "id": "FiQgLiWI6pGS",
        "outputId": "ebe54879-9049-4df3-d966-9e2af77624a7"
      },
      "execution_count": null,
      "outputs": [
        {
          "output_type": "stream",
          "name": "stdout",
          "text": [
            "Epoch 1/100\n",
            "38/38 [==============================] - 12s 132ms/step - loss: 0.0170\n",
            "Epoch 2/100\n",
            "38/38 [==============================] - 4s 113ms/step - loss: 0.0026\n",
            "Epoch 3/100\n",
            "38/38 [==============================] - 4s 113ms/step - loss: 0.0023\n",
            "Epoch 4/100\n",
            "38/38 [==============================] - 5s 143ms/step - loss: 0.0024\n",
            "Epoch 5/100\n",
            "38/38 [==============================] - 4s 111ms/step - loss: 0.0020\n",
            "Epoch 6/100\n",
            "38/38 [==============================] - 5s 133ms/step - loss: 0.0018\n",
            "Epoch 7/100\n",
            "38/38 [==============================] - 4s 108ms/step - loss: 0.0018\n",
            "Epoch 8/100\n",
            "38/38 [==============================] - 4s 117ms/step - loss: 0.0017\n",
            "Epoch 9/100\n",
            "38/38 [==============================] - 5s 125ms/step - loss: 0.0014\n",
            "Epoch 10/100\n",
            "38/38 [==============================] - 4s 109ms/step - loss: 0.0013\n",
            "Epoch 11/100\n",
            "38/38 [==============================] - 5s 128ms/step - loss: 0.0013\n",
            "Epoch 12/100\n",
            "38/38 [==============================] - 4s 113ms/step - loss: 0.0014\n",
            "Epoch 13/100\n",
            "38/38 [==============================] - 4s 112ms/step - loss: 0.0012\n",
            "Epoch 14/100\n",
            "38/38 [==============================] - 5s 130ms/step - loss: 0.0011\n",
            "Epoch 15/100\n",
            "38/38 [==============================] - 4s 117ms/step - loss: 0.0011\n",
            "Epoch 16/100\n",
            "38/38 [==============================] - 5s 131ms/step - loss: 0.0011\n",
            "Epoch 17/100\n",
            "38/38 [==============================] - 4s 110ms/step - loss: 0.0011\n",
            "Epoch 18/100\n",
            "38/38 [==============================] - 4s 118ms/step - loss: 0.0010\n",
            "Epoch 19/100\n",
            "38/38 [==============================] - 5s 134ms/step - loss: 0.0011\n",
            "Epoch 20/100\n",
            "38/38 [==============================] - 4s 115ms/step - loss: 9.9948e-04\n",
            "Epoch 21/100\n",
            "38/38 [==============================] - 5s 123ms/step - loss: 9.4372e-04\n",
            "Epoch 22/100\n",
            "38/38 [==============================] - 5s 118ms/step - loss: 0.0010\n",
            "Epoch 23/100\n",
            "38/38 [==============================] - 4s 118ms/step - loss: 9.5721e-04\n",
            "Epoch 24/100\n",
            "38/38 [==============================] - 5s 129ms/step - loss: 8.7264e-04\n",
            "Epoch 25/100\n",
            "38/38 [==============================] - 4s 108ms/step - loss: 8.3011e-04\n",
            "Epoch 26/100\n",
            "38/38 [==============================] - 4s 111ms/step - loss: 8.1413e-04\n",
            "Epoch 27/100\n",
            "38/38 [==============================] - 5s 128ms/step - loss: 7.8900e-04\n",
            "Epoch 28/100\n",
            "38/38 [==============================] - 4s 111ms/step - loss: 8.2956e-04\n",
            "Epoch 29/100\n",
            "38/38 [==============================] - 5s 131ms/step - loss: 7.4571e-04\n",
            "Epoch 30/100\n",
            "38/38 [==============================] - 4s 111ms/step - loss: 5.9949e-04\n",
            "Epoch 31/100\n",
            "38/38 [==============================] - 4s 109ms/step - loss: 6.8531e-04\n",
            "Epoch 32/100\n",
            "38/38 [==============================] - 5s 130ms/step - loss: 6.4814e-04\n",
            "Epoch 33/100\n",
            "38/38 [==============================] - 4s 110ms/step - loss: 5.2464e-04\n",
            "Epoch 34/100\n",
            "38/38 [==============================] - 4s 112ms/step - loss: 4.8772e-04\n",
            "Epoch 35/100\n",
            "38/38 [==============================] - 5s 123ms/step - loss: 5.4725e-04\n",
            "Epoch 36/100\n",
            "38/38 [==============================] - 4s 109ms/step - loss: 5.2983e-04\n",
            "Epoch 37/100\n",
            "38/38 [==============================] - 5s 128ms/step - loss: 4.2797e-04\n",
            "Epoch 38/100\n",
            "38/38 [==============================] - 4s 110ms/step - loss: 5.8038e-04\n",
            "Epoch 39/100\n",
            "38/38 [==============================] - 4s 115ms/step - loss: 4.0109e-04\n",
            "Epoch 40/100\n",
            "38/38 [==============================] - 5s 129ms/step - loss: 4.1003e-04\n",
            "Epoch 41/100\n",
            "38/38 [==============================] - 4s 109ms/step - loss: 4.0948e-04\n",
            "Epoch 42/100\n",
            "38/38 [==============================] - 5s 127ms/step - loss: 4.7651e-04\n",
            "Epoch 43/100\n",
            "38/38 [==============================] - 5s 119ms/step - loss: 3.8333e-04\n",
            "Epoch 44/100\n",
            "38/38 [==============================] - 4s 114ms/step - loss: 4.5765e-04\n",
            "Epoch 45/100\n",
            "38/38 [==============================] - 5s 134ms/step - loss: 3.9794e-04\n",
            "Epoch 46/100\n",
            "38/38 [==============================] - 4s 114ms/step - loss: 3.6453e-04\n",
            "Epoch 47/100\n",
            "38/38 [==============================] - 4s 116ms/step - loss: 3.4807e-04\n",
            "Epoch 48/100\n",
            "38/38 [==============================] - 5s 124ms/step - loss: 3.7190e-04\n",
            "Epoch 49/100\n",
            "38/38 [==============================] - 4s 113ms/step - loss: 4.5788e-04\n",
            "Epoch 50/100\n",
            "38/38 [==============================] - 5s 132ms/step - loss: 3.7123e-04\n",
            "Epoch 51/100\n",
            "38/38 [==============================] - 4s 114ms/step - loss: 3.5486e-04\n",
            "Epoch 52/100\n",
            "38/38 [==============================] - 4s 115ms/step - loss: 4.1595e-04\n",
            "Epoch 53/100\n",
            "38/38 [==============================] - 5s 137ms/step - loss: 4.2604e-04\n",
            "Epoch 54/100\n",
            "38/38 [==============================] - 4s 112ms/step - loss: 4.1588e-04\n",
            "Epoch 55/100\n",
            "38/38 [==============================] - 5s 135ms/step - loss: 3.0540e-04\n",
            "Epoch 56/100\n",
            "38/38 [==============================] - 5s 119ms/step - loss: 3.1336e-04\n",
            "Epoch 57/100\n",
            "38/38 [==============================] - 4s 111ms/step - loss: 3.1936e-04\n",
            "Epoch 58/100\n",
            "38/38 [==============================] - 5s 130ms/step - loss: 3.3451e-04\n",
            "Epoch 59/100\n",
            "38/38 [==============================] - 4s 112ms/step - loss: 3.3573e-04\n",
            "Epoch 60/100\n",
            "38/38 [==============================] - 5s 131ms/step - loss: 4.2363e-04\n",
            "Epoch 61/100\n",
            "38/38 [==============================] - 4s 109ms/step - loss: 3.2986e-04\n",
            "Epoch 62/100\n",
            "38/38 [==============================] - 4s 109ms/step - loss: 2.9757e-04\n",
            "Epoch 63/100\n",
            "38/38 [==============================] - 5s 129ms/step - loss: 3.6482e-04\n",
            "Epoch 64/100\n",
            "38/38 [==============================] - 5s 136ms/step - loss: 3.2182e-04\n",
            "Epoch 65/100\n",
            "38/38 [==============================] - 5s 133ms/step - loss: 3.9960e-04\n",
            "Epoch 66/100\n",
            "38/38 [==============================] - 4s 113ms/step - loss: 3.1986e-04\n",
            "Epoch 67/100\n",
            "38/38 [==============================] - 4s 113ms/step - loss: 3.0661e-04\n",
            "Epoch 68/100\n",
            "38/38 [==============================] - 5s 132ms/step - loss: 3.0678e-04\n",
            "Epoch 69/100\n",
            "38/38 [==============================] - 4s 115ms/step - loss: 3.2190e-04\n",
            "Epoch 70/100\n",
            "38/38 [==============================] - 4s 113ms/step - loss: 3.2716e-04\n",
            "Epoch 71/100\n",
            "38/38 [==============================] - 5s 126ms/step - loss: 3.3116e-04\n",
            "Epoch 72/100\n",
            "38/38 [==============================] - 4s 111ms/step - loss: 3.3702e-04\n",
            "Epoch 73/100\n",
            "38/38 [==============================] - 5s 130ms/step - loss: 3.1456e-04\n",
            "Epoch 74/100\n",
            "38/38 [==============================] - 4s 111ms/step - loss: 2.8302e-04\n",
            "Epoch 75/100\n",
            "38/38 [==============================] - 4s 110ms/step - loss: 3.3129e-04\n",
            "Epoch 76/100\n",
            "38/38 [==============================] - 5s 131ms/step - loss: 3.0234e-04\n",
            "Epoch 77/100\n",
            "38/38 [==============================] - 4s 110ms/step - loss: 2.7618e-04\n",
            "Epoch 78/100\n",
            "38/38 [==============================] - 5s 128ms/step - loss: 3.6519e-04\n",
            "Epoch 79/100\n",
            "38/38 [==============================] - 4s 112ms/step - loss: 3.9244e-04\n",
            "Epoch 80/100\n",
            "38/38 [==============================] - 4s 117ms/step - loss: 3.4489e-04\n",
            "Epoch 81/100\n",
            "38/38 [==============================] - 5s 132ms/step - loss: 2.7134e-04\n",
            "Epoch 82/100\n",
            "38/38 [==============================] - 4s 114ms/step - loss: 2.7599e-04\n",
            "Epoch 83/100\n",
            "38/38 [==============================] - 4s 115ms/step - loss: 2.7094e-04\n",
            "Epoch 84/100\n",
            "38/38 [==============================] - 5s 130ms/step - loss: 3.0778e-04\n",
            "Epoch 85/100\n",
            "38/38 [==============================] - 4s 117ms/step - loss: 2.9687e-04\n",
            "Epoch 86/100\n",
            "38/38 [==============================] - 5s 137ms/step - loss: 2.6999e-04\n",
            "Epoch 87/100\n",
            "38/38 [==============================] - 4s 112ms/step - loss: 3.0381e-04\n",
            "Epoch 88/100\n",
            "38/38 [==============================] - 4s 111ms/step - loss: 2.7684e-04\n",
            "Epoch 89/100\n",
            "38/38 [==============================] - 5s 138ms/step - loss: 3.6746e-04\n",
            "Epoch 90/100\n",
            "38/38 [==============================] - 5s 118ms/step - loss: 2.8223e-04\n",
            "Epoch 91/100\n",
            "38/38 [==============================] - 5s 141ms/step - loss: 2.6415e-04\n",
            "Epoch 92/100\n",
            "38/38 [==============================] - 4s 114ms/step - loss: 2.8048e-04\n",
            "Epoch 93/100\n",
            "38/38 [==============================] - 4s 116ms/step - loss: 3.2722e-04\n",
            "Epoch 94/100\n",
            "38/38 [==============================] - 5s 131ms/step - loss: 3.0813e-04\n",
            "Epoch 95/100\n",
            "38/38 [==============================] - 4s 115ms/step - loss: 2.9573e-04\n",
            "Epoch 96/100\n",
            "38/38 [==============================] - 5s 136ms/step - loss: 2.8589e-04\n",
            "Epoch 97/100\n",
            "38/38 [==============================] - 4s 117ms/step - loss: 2.7913e-04\n",
            "Epoch 98/100\n",
            "38/38 [==============================] - 4s 114ms/step - loss: 2.8513e-04\n",
            "Epoch 99/100\n",
            "38/38 [==============================] - 5s 126ms/step - loss: 2.5776e-04\n",
            "Epoch 100/100\n",
            "38/38 [==============================] - 4s 112ms/step - loss: 2.6018e-04\n"
          ]
        },
        {
          "output_type": "execute_result",
          "data": {
            "text/plain": [
              "<keras.callbacks.History at 0x7f2f4803ed40>"
            ]
          },
          "metadata": {},
          "execution_count": 31
        }
      ]
    },
    {
      "cell_type": "markdown",
      "source": [
        "# Extract the actual stock prices"
      ],
      "metadata": {
        "id": "D78dBVG8VfxM"
      }
    },
    {
      "cell_type": "code",
      "source": [
        "dataset_test = pd.read_csv(\"NSE-TATAGLOBAL.csv\")\n",
        "actual_stock_price = dataset_test.iloc[:,1:2].values"
      ],
      "metadata": {
        "id": "zUbG0AD26pJY"
      },
      "execution_count": null,
      "outputs": []
    },
    {
      "cell_type": "markdown",
      "source": [
        "# preparing input for the Model"
      ],
      "metadata": {
        "id": "Z_VrXi2xVo5I"
      }
    },
    {
      "cell_type": "code",
      "source": [
        "dataset_total = pd.concat((df['Open'], dataset_test['Open']), axis=0)\n",
        "inputs = dataset_total[len(dataset_total)- len(dataset_test)-60:].values\n",
        "\n",
        "inputs = inputs.reshape(-1,1)\n",
        "inputs = scaler.transform(inputs)\n",
        "\n",
        "x_test = []\n",
        "for i in range(60,80):\n",
        "  x_test.append(inputs[i-60:i, 0])\n",
        "\n",
        "x_test = np.array(x_test)\n",
        "x_test = np.reshape(x_test,(x_test.shape[0], x_test.shape[1], 1))\n"
      ],
      "metadata": {
        "id": "vgfWg0NI6pMY"
      },
      "execution_count": null,
      "outputs": []
    },
    {
      "cell_type": "markdown",
      "source": [
        "# predicting the values for stock prices"
      ],
      "metadata": {
        "id": "QE2TdAeeVv2F"
      }
    },
    {
      "cell_type": "code",
      "source": [
        "train_stock_price = regressor.predict(x_train)\n",
        "test_stock_price = regressor.predict(x_test)\n",
        "\n",
        "\n",
        "\n",
        "\n",
        "predicted_stock_price = scaler.inverse_transform(train_stock_price)\n",
        "predicted_stock_price = scaler.inverse_transform(test_stock_price)\n"
      ],
      "metadata": {
        "colab": {
          "base_uri": "https://localhost:8080/"
        },
        "id": "ZDiUKd1rDMQG",
        "outputId": "fc0fb867-d26f-4329-9534-50088ee00fee"
      },
      "execution_count": null,
      "outputs": [
        {
          "output_type": "stream",
          "name": "stdout",
          "text": [
            "38/38 [==============================] - 1s 34ms/step\n",
            "1/1 [==============================] - 0s 43ms/step\n"
          ]
        }
      ]
    },
    {
      "cell_type": "markdown",
      "source": [
        "# plotting the actual price and predicted price for dataset"
      ],
      "metadata": {
        "id": "ICjG5GoYV1kJ"
      }
    },
    {
      "cell_type": "code",
      "source": [
        "plt.plot(actual_stock_price, color = 'orange' , label = 'Actual Tata Stock Price')\n",
        "plt.plot(predicted_stock_price, color = 'green' , label = 'Predicted Tata Stock Price')\n",
        "plt.title(' Stock Price Prediction')\n",
        "plt.xlabel('Time')\n",
        "plt.ylabel(' Stock Price')\n",
        "plt.legend()\n",
        "plt.show()"
      ],
      "metadata": {
        "colab": {
          "base_uri": "https://localhost:8080/",
          "height": 472
        },
        "id": "em9J10aRDMX7",
        "outputId": "2be79def-0e91-4cd4-afd2-38653b621054"
      },
      "execution_count": null,
      "outputs": [
        {
          "output_type": "display_data",
          "data": {
            "text/plain": [
              "<Figure size 640x480 with 1 Axes>"
            ],
            "image/png": "[encoded data removed]"
          },
          "metadata": {}
        }
      ]
    }
  ]
}